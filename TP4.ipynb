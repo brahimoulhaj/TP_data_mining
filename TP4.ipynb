{
 "cells": [
  {
   "cell_type": "markdown",
   "metadata": {},
   "source": [
    "<center>\n",
    "    <h1>TP4</h1>\n",
    "    <h2>Clustering de données</h2>\n",
    "</center>"
   ]
  },
  {
   "cell_type": "markdown",
   "metadata": {},
   "source": [
    "## K-Moyennes"
   ]
  },
  {
   "cell_type": "code",
   "execution_count": 1,
   "metadata": {},
   "outputs": [],
   "source": [
    "from sklearn import *\n",
    "import numpy as np\n",
    "import matplotlib.pyplot as plt\n",
    "\n",
    "iris = datasets.load_iris()\n",
    "X = iris.data\n",
    "y = iris.target"
   ]
  },
  {
   "cell_type": "code",
   "execution_count": 8,
   "metadata": {},
   "outputs": [],
   "source": [
    "def d_euclidean(A,B):\n",
    "    return metrics.pairwise.euclidean_distances([A],[B])[0][0]"
   ]
  },
  {
   "cell_type": "code",
   "execution_count": 158,
   "metadata": {
    "scrolled": false
   },
   "outputs": [
    {
     "name": "stdout",
     "output_type": "stream",
     "text": [
      "12\n"
     ]
    }
   ],
   "source": [
    "from scipy.spatial.distance import euclidean\n",
    "def k_moyennes(data, k, max_iter = 100):\n",
    "    n_iter = 0\n",
    "    centroids = {}\n",
    "    for i in range(k): centroids[i] = data[i]\n",
    "    for i in range(max_iter):\n",
    "        classes = {}\n",
    "        targests = {}\n",
    "        for j in range(k):\n",
    "            classes[j] = []\n",
    "            targests[j] = []\n",
    "        for j in range(len(data)):\n",
    "            distances = [d_euclidean(data[j], centroids[cen]) for cen in centroids]\n",
    "            classe = np.argmin(distances)\n",
    "            classes[classe].append(data[j])\n",
    "            targests[classe].append(j)\n",
    "        prev_centroids = dict(centroids)\n",
    "        for classe in classes:\n",
    "            centroids[classe] = np.mean(classes[classe], axis=0)\n",
    "        \n",
    "        for c in centroids:\n",
    "            original_centroid = prev_centroids[c]\n",
    "            current_centroid = centroids[c]\n",
    "        \n",
    "        ccens = np.array([v for v in centroids.values()])\n",
    "        pcens = np.array([v for v in prev_centroids.values()])\n",
    "        n_iter += 1\n",
    "        \n",
    "        if (ccens == pcens).all():\n",
    "            break\n",
    "        \n",
    "    for k,v in classes.items(): classes[k] = np.array(v)\n",
    "    return targests, n_iter\n",
    "\n",
    "targests, n_iter = k_moyennes(X,3)\n",
    "print(n_iter)"
   ]
  },
  {
   "cell_type": "code",
   "execution_count": 159,
   "metadata": {
    "scrolled": false
   },
   "outputs": [
    {
     "name": "stdout",
     "output_type": "stream",
     "text": [
      "error = 0.07 %\n"
     ]
    }
   ],
   "source": [
    "pred = []\n",
    "l = []\n",
    "for k,v in targests.items(): \n",
    "    l.append(v)\n",
    "l.reverse()\n",
    "for i in range(len(l)):\n",
    "    for j in range(len(l[i])):\n",
    "        pred.append(i)\n",
    "        \n",
    "pred = np.array(pred)\n",
    "\n",
    "error = 1 - metrics.accuracy_score(pred, y)\n",
    "print(f\"error = {round(error, 2)} %\")"
   ]
  },
  {
   "cell_type": "code",
   "execution_count": 220,
   "metadata": {},
   "outputs": [
    {
     "name": "stdout",
     "output_type": "stream",
     "text": [
      "[1 1 1 1 1 1 1 1 1 1 1 1 1 1 1 1 1 1 1 1 1 1 1 1 1 1 1 1 1 1 1 1 1 1 1 1 1\n",
      " 1 1 1 1 1 1 1 1 1 1 1 1 1 2 2 0 2 2 2 2 2 2 2 2 2 2 2 2 2 2 2 2 2 2 2 2 2\n",
      " 2 2 2 0 2 2 2 2 2 2 2 2 2 2 2 2 2 2 2 2 2 2 2 2 2 2 0 2 0 0 0 0 2 0 0 0 0\n",
      " 0 0 2 2 0 0 0 0 2 0 2 0 2 0 0 2 2 0 0 0 0 0 2 0 0 0 0 2 0 0 0 2 0 0 0 2 0\n",
      " 0 2]\n"
     ]
    }
   ],
   "source": [
    "kmeans = cluster.KMeans(n_clusters=3).fit(X)\n",
    "pred = kmeans.labels_\n",
    "print(pred)"
   ]
  },
  {
   "cell_type": "code",
   "execution_count": null,
   "metadata": {},
   "outputs": [],
   "source": []
  }
 ],
 "metadata": {
  "kernelspec": {
   "display_name": "Python 3",
   "language": "python",
   "name": "python3"
  },
  "language_info": {
   "codemirror_mode": {
    "name": "ipython",
    "version": 3
   },
   "file_extension": ".py",
   "mimetype": "text/x-python",
   "name": "python",
   "nbconvert_exporter": "python",
   "pygments_lexer": "ipython3",
   "version": "3.7.4"
  }
 },
 "nbformat": 4,
 "nbformat_minor": 2
}
