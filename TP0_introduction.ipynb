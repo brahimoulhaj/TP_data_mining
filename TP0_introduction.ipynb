{
 "cells": [
  {
   "cell_type": "code",
   "execution_count": 4,
   "metadata": {},
   "outputs": [
    {
     "name": "stdout",
     "output_type": "stream",
     "text": [
      "34877232.14285714\n"
     ]
    }
   ],
   "source": [
    "x = 5**12 / 7\n",
    "print(x)"
   ]
  },
  {
   "cell_type": "code",
   "execution_count": 6,
   "metadata": {},
   "outputs": [
    {
     "name": "stdout",
     "output_type": "stream",
     "text": [
      "34877232\n"
     ]
    }
   ],
   "source": [
    "x = 5**12 // 7\n",
    "print(x)"
   ]
  },
  {
   "cell_type": "code",
   "execution_count": 11,
   "metadata": {},
   "outputs": [
    {
     "name": "stdout",
     "output_type": "stream",
     "text": [
      "2^23-7 est un multiple de 13\n"
     ]
    }
   ],
   "source": [
    "a = 2**23 - 7\n",
    "if a%9 == 0:\n",
    "    print(\"2^23-7 est un multiple de 9\")\n",
    "if a%13 == 0:\n",
    "    print(\"2^23-7 est un multiple de 13\")"
   ]
  },
  {
   "cell_type": "code",
   "execution_count": 19,
   "metadata": {},
   "outputs": [
    {
     "name": "stdout",
     "output_type": "stream",
     "text": [
      "1100111\n",
      "0b1100111\n"
     ]
    }
   ],
   "source": [
    "b = 103\n",
    "s = ''\n",
    "while b > 0:\n",
    "    s = str(b%2) + s\n",
    "    #print(b%2)\n",
    "    b //= 2\n",
    "print(s)\n",
    "\n",
    "print(bin(103))"
   ]
  },
  {
   "cell_type": "code",
   "execution_count": null,
   "metadata": {},
   "outputs": [],
   "source": [
    "def pgcd(a,b):\n",
    "    if b==0:\n",
    "        return a\n",
    "    else:\n",
    "        r=a%b\n",
    "        return pgcd(b,r)\n",
    "\n",
    "pgc"
   ]
  }
 ],
 "metadata": {
  "kernelspec": {
   "display_name": "Python 3",
   "language": "python",
   "name": "python3"
  },
  "language_info": {
   "codemirror_mode": {
    "name": "ipython",
    "version": 3
   },
   "file_extension": ".py",
   "mimetype": "text/x-python",
   "name": "python",
   "nbconvert_exporter": "python",
   "pygments_lexer": "ipython3",
   "version": "3.7.4"
  }
 },
 "nbformat": 4,
 "nbformat_minor": 2
}
