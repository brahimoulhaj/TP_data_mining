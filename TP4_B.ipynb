{
 "cells": [
  {
   "cell_type": "markdown",
   "metadata": {},
   "source": [
    "## B) Analyse des données « choix projet » :"
   ]
  },
  {
   "cell_type": "code",
   "execution_count": 36,
   "metadata": {},
   "outputs": [],
   "source": [
    "import csv\n",
    "import numpy as np\n",
    "\n",
    "data = []\n",
    "with open('choixprojetstab.csv', mode='r') as csv_file:\n",
    "    csv_reader = csv.reader(csv_file, delimiter=';')\n",
    "    for row in csv_reader: data.append(row)"
   ]
  },
  {
   "cell_type": "code",
   "execution_count": 42,
   "metadata": {},
   "outputs": [],
   "source": [
    "M = []\n",
    "C = []\n",
    "for d in data[1:]: M.append(d[1:]); C.append(d[0])\n",
    "M = np.array(M).astype(int)"
   ]
  },
  {
   "cell_type": "code",
   "execution_count": 46,
   "metadata": {},
   "outputs": [
    {
     "name": "stdout",
     "output_type": "stream",
     "text": [
      "<class 'numpy.ndarray'>\n",
      "<class 'list'>\n",
      "71\n",
      "71\n"
     ]
    }
   ],
   "source": [
    "print(type(M))\n",
    "print(type(C))\n",
    "print(len(M))\n",
    "print(len(C))"
   ]
  },
  {
   "cell_type": "markdown",
   "metadata": {},
   "source": [
    "# K-Means"
   ]
  },
  {
   "cell_type": "code",
   "execution_count": 57,
   "metadata": {},
   "outputs": [
    {
     "name": "stdout",
     "output_type": "stream",
     "text": [
      "71\n",
      "[0 1 2 1 2 1 1 1 0 1 1 3 2 1 1 1 2 1 2 1 1 1 2 0 1 1 1 1 1 1 1 2 1 3 1 2 1\n",
      " 2 1 1 3 1 1 1 0 2 1 1 1 1 1 1 2 1 1 2 1 1 1 1 2 1 0 1 3 2 1 1 1 1 1]\n"
     ]
    }
   ],
   "source": [
    "from sklearn.cluster import KMeans\n",
    "kmeans = KMeans(n_clusters=4).fit(M)\n",
    "kmeans_pred = kmeans.labels_\n",
    "print(len(kmeans_pred))\n",
    "print(kmeans_pred)"
   ]
  },
  {
   "cell_type": "markdown",
   "metadata": {},
   "source": [
    "# AgglomerativeClustering"
   ]
  },
  {
   "cell_type": "code",
   "execution_count": 70,
   "metadata": {},
   "outputs": [
    {
     "name": "stdout",
     "output_type": "stream",
     "text": [
      "71\n",
      "[3 2 1 2 1 0 0 2 3 2 2 0 1 2 2 2 1 2 1 2 2 0 1 3 2 2 2 2 2 2 2 1 2 0 2 1 2\n",
      " 1 0 2 0 2 2 2 3 1 2 2 2 2 2 2 1 2 2 1 2 2 2 2 1 2 0 2 0 1 2 2 0 2 2]\n"
     ]
    }
   ],
   "source": [
    "from sklearn.cluster import AgglomerativeClustering\n",
    "agg = AgglomerativeClustering(n_clusters=4).fit(M)\n",
    "agg_pred = agg.labels_\n",
    "print(len(agg_pred))\n",
    "print(agg_pred)"
   ]
  },
  {
   "cell_type": "code",
   "execution_count": 78,
   "metadata": {},
   "outputs": [],
   "source": [
    "from sklearn.metrics import silhouette_score\n",
    "silhouette_avg_kmeans = silhouette_score(M, kmeans_pred)\n",
    "silhouette_avg_agg = silhouette_score(M, agg_pred)"
   ]
  },
  {
   "cell_type": "code",
   "execution_count": 79,
   "metadata": {},
   "outputs": [
    {
     "name": "stdout",
     "output_type": "stream",
     "text": [
      "kmeans=>0.2978719704538733\n",
      "agg=>0.2884593801353125\n"
     ]
    }
   ],
   "source": [
    "print(f\"kmeans=>{silhouette_avg_kmeans}\\nagg=>{silhouette_avg_agg}\")"
   ]
  },
  {
   "cell_type": "code",
   "execution_count": null,
   "metadata": {},
   "outputs": [],
   "source": []
  }
 ],
 "metadata": {
  "kernelspec": {
   "display_name": "Python 3",
   "language": "python",
   "name": "python3"
  },
  "language_info": {
   "codemirror_mode": {
    "name": "ipython",
    "version": 3
   },
   "file_extension": ".py",
   "mimetype": "text/x-python",
   "name": "python",
   "nbconvert_exporter": "python",
   "pygments_lexer": "ipython3",
   "version": "3.7.4"
  }
 },
 "nbformat": 4,
 "nbformat_minor": 2
}
