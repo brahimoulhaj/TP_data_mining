{
 "cells": [
  {
   "cell_type": "markdown",
   "metadata": {},
   "source": [
    "# Descente de gradient"
   ]
  },
  {
   "cell_type": "code",
   "execution_count": 8,
   "metadata": {},
   "outputs": [
    {
     "name": "stdout",
     "output_type": "stream",
     "text": [
      "E(0) = 30, E(1) = 0\n",
      "dE(0) = -61, dE(1) = -8\n"
     ]
    }
   ],
   "source": [
    "def E(x): return x**4 - 11*(x**3) + 41*x*x - 61*x + 30\n",
    "def dE(x): return 4*(x**3) - 33*x*x + 82*x - 61\n",
    "\n",
    "print(f\"E(0) = {E(0)}, E(1) = {E(1)}\")\n",
    "print(f\"dE(0) = {dE(0)}, dE(1) = {dE(1)}\")\n",
    "\n",
    "def DG(x0, n, e = 0.01, max_iter = 1000):\n",
    "    x = x0\n",
    "    for i in range(max_iter):\n",
    "        px = x\n",
    "        x = px - (n*dE(px))\n",
    "        if abs(x - px) < e: \n",
    "            break\n",
    "    return {\"xmin\" : round(x, 3), \"n_iter\" : i+1, \"E(xmin)\" : E(x)}"
   ]
  },
  {
   "cell_type": "code",
   "execution_count": 9,
   "metadata": {},
   "outputs": [
    {
     "name": "stdout",
     "output_type": "stream",
     "text": [
      "x0=5 et n=0.001\t\t===>\t{'xmin': 4.661, 'n_iter': 22, 'E(xmin)': -5.480963002094541}\n",
      "x0=5 et n=0.01\t\t===>\t{'xmin': 4.361, 'n_iter': 10, 'E(xmin)': -6.9011757851308175}\n",
      "x0=5 et n=0.1\t\t===>\t{'xmin': 4.105, 'n_iter': 1000, 'E(xmin)': -6.463930507818617}\n",
      "x0=5 et n=0.17\t\t===>\t{'xmin': 1.658, 'n_iter': 1000, 'E(xmin)': -1.0083047800537628}\n",
      "x0=0 et n=0.001\t\t===>\t{'xmin': 0.949, 'n_iter': 39, 'E(xmin)': 0.44149105986255677}\n",
      "Wall time: 1.99 ms\n"
     ]
    }
   ],
   "source": [
    "%%time\n",
    "print(f\"x0=5 et n=0.001\\t\\t===>\\t{DG(x0=5, n=0.001)}\")\n",
    "print(f\"x0=5 et n=0.01\\t\\t===>\\t{DG(x0=5, n=0.01)}\")\n",
    "print(f\"x0=5 et n=0.1\\t\\t===>\\t{DG(x0=5, n=0.1)}\")\n",
    "print(f\"x0=5 et n=0.17\\t\\t===>\\t{DG(x0=5, n=0.17)}\")\n",
    "#print(f\"x0=5 et n=1\\t\\t===>\\t{DG(x0=5, n=1)}\")\n",
    "print(f\"x0=0 et n=0.001\\t\\t===>\\t{DG(x0=0, n=0.001)}\")"
   ]
  },
  {
   "cell_type": "markdown",
   "metadata": {},
   "source": [
    "# e = 0.1, max_iter = 2000"
   ]
  },
  {
   "cell_type": "code",
   "execution_count": 10,
   "metadata": {},
   "outputs": [
    {
     "name": "stdout",
     "output_type": "stream",
     "text": [
      "x0=5 et n=0.001\t\t===>\t{'xmin': 4.976, 'n_iter': 1, 'E(xmin)': -0.5611480842240439}\n",
      "x0=5 et n=0.01\t\t===>\t{'xmin': 4.547, 'n_iter': 3, 'E(xmin)': -6.329232464124345}\n",
      "x0=5 et n=0.1\t\t===>\t{'xmin': 2.658, 'n_iter': 2, 'E(xmin)': 0.8742514433457984}\n",
      "x0=5 et n=0.17\t\t===>\t{'xmin': 1.658, 'n_iter': 2000, 'E(xmin)': -1.0083047800537628}\n",
      "x0=0 et n=0.001\t\t===>\t{'xmin': 0.061, 'n_iter': 1, 'E(xmin)': 26.429078054841}\n",
      "Wall time: 0 ns\n"
     ]
    }
   ],
   "source": [
    "%%time\n",
    "max_iter = 2000\n",
    "e = 0.1\n",
    "print(f\"x0=5 et n=0.001\\t\\t===>\\t{DG(x0=5, n=0.001, e = e, max_iter = max_iter)}\")\n",
    "print(f\"x0=5 et n=0.01\\t\\t===>\\t{DG(x0=5, n=0.01, e = e, max_iter = max_iter)}\")\n",
    "print(f\"x0=5 et n=0.1\\t\\t===>\\t{DG(x0=5, n=0.1, e = e, max_iter = max_iter)}\")\n",
    "print(f\"x0=5 et n=0.17\\t\\t===>\\t{DG(x0=5, n=0.17, e = e, max_iter = max_iter)}\")\n",
    "#print(f\"x0=5 et n=1\\t\\t===>\\t{DG(x0=5, n=1, e = e, max_iter = max_iter)}\")\n",
    "print(f\"x0=0 et n=0.001\\t\\t===>\\t{DG(x0=0, n=0.001, e = e, max_iter = max_iter)}\")"
   ]
  },
  {
   "cell_type": "markdown",
   "metadata": {},
   "source": [
    "# e = 0.0001, max_iter = 100"
   ]
  },
  {
   "cell_type": "code",
   "execution_count": 11,
   "metadata": {},
   "outputs": [
    {
     "name": "stdout",
     "output_type": "stream",
     "text": [
      "x0=5 et n=0.001\t\t===>\t{'xmin': 4.976, 'n_iter': 1, 'E(xmin)': -0.5611480842240439}\n",
      "x0=5 et n=0.01\t\t===>\t{'xmin': 4.547, 'n_iter': 3, 'E(xmin)': -6.329232464124345}\n",
      "x0=5 et n=0.1\t\t===>\t{'xmin': 2.658, 'n_iter': 2, 'E(xmin)': 0.8742514433457984}\n",
      "x0=5 et n=0.17\t\t===>\t{'xmin': 1.658, 'n_iter': 100, 'E(xmin)': -1.0083047800537628}\n",
      "x0=0 et n=0.001\t\t===>\t{'xmin': 0.061, 'n_iter': 1, 'E(xmin)': 26.429078054841}\n",
      "Wall time: 0 ns\n"
     ]
    }
   ],
   "source": [
    "%%time\n",
    "max_iter = 100\n",
    "e = 0.1\n",
    "print(f\"x0=5 et n=0.001\\t\\t===>\\t{DG(x0=5, n=0.001, e = e, max_iter = max_iter)}\")\n",
    "print(f\"x0=5 et n=0.01\\t\\t===>\\t{DG(x0=5, n=0.01, e = e, max_iter = max_iter)}\")\n",
    "print(f\"x0=5 et n=0.1\\t\\t===>\\t{DG(x0=5, n=0.1, e = e, max_iter = max_iter)}\")\n",
    "print(f\"x0=5 et n=0.17\\t\\t===>\\t{DG(x0=5, n=0.17, e = e, max_iter = max_iter)}\")\n",
    "#print(f\"x0=5 et n=1\\t\\t===>\\t{DG(x0=5, n=1, e = e, max_iter = max_iter)}\")\n",
    "print(f\"x0=0 et n=0.001\\t\\t===>\\t{DG(x0=0, n=0.001, e = e, max_iter = max_iter)}\")"
   ]
  },
  {
   "cell_type": "markdown",
   "metadata": {},
   "source": [
    "# Descente de gradient pour la régression linéaire"
   ]
  },
  {
   "cell_type": "code",
   "execution_count": 73,
   "metadata": {},
   "outputs": [],
   "source": [
    "import numpy as np\n",
    "def E(a,b,x,y): return sum([(a*x[i]+b)-y[i] for i in range(1, len(x))])\n",
    "def DG_reg(max_iter, e, n, x, y):\n",
    "    nb_sample_data = x.shape[0]\n",
    "    rg_sample = range(1, nb_sample_data)\n",
    "\n",
    "    a = np.random.random(x.shape[1])[0]\n",
    "    b = np.random.random(x.shape[1])[0]\n",
    "    Eab = E(a,b,x,y)\n",
    "\n",
    "    for i in range(max_iter):\n",
    "        #Calcule du gradient\n",
    "        grad_a = sum([2*(a*x[j]**2+b*x[j]-y[j]*x[j]) for j in rg_sample])\n",
    "        grad_b = sum([2*(a*x[j]+b-y[j]) for j in rg_sample])\n",
    "\n",
    "        #Descente de gradient\n",
    "        prev_a = a - n * grad_a[0]\n",
    "        prev_b = b - n * grad_b[0]\n",
    "        \n",
    "        a = prev_a\n",
    "        b = prev_b\n",
    "        \n",
    "        #Calcule de l'erreur\n",
    "        err = sum([a*x[j]+b-y[j] for j in rg_sample])\n",
    "\n",
    "        if abs(Eab-err) < e: break\n",
    "            \n",
    "        Eab = err\n",
    "\n",
    "    return {'a': a, 'b': b, 'n_iter': i+1, \"E(amin, bmin)\": E(a,b,x,y)}"
   ]
  },
  {
   "cell_type": "code",
   "execution_count": 74,
   "metadata": {},
   "outputs": [],
   "source": [
    "from sklearn.datasets import make_regression\n",
    "(x,y) = make_regression(n_samples=100, n_features=1, noise=7)"
   ]
  },
  {
   "cell_type": "code",
   "execution_count": 83,
   "metadata": {},
   "outputs": [
    {
     "name": "stdout",
     "output_type": "stream",
     "text": [
      "n = 0.001, n_max = 100 :\n",
      "{'a': 76.38252710522202, 'b': 0.31277322839740473, 'n_iter': 72, 'E(amin, bmin)': array([-0.00036079])}\n",
      "\n",
      "n = 0.001, n_max = 500 :\n",
      "{'a': 76.38252710201841, 'b': 0.3127732233014019, 'n_iter': 72, 'E(amin, bmin)': array([-0.00036128])}\n",
      "\n",
      "n = 0.001, n_max = 1000 :\n",
      "{'a': 76.38252711951188, 'b': 0.31277324858014255, 'n_iter': 72, 'E(amin, bmin)': array([-0.00035883])}\n",
      "\n",
      "n = 0.01, n_max = 1000 :\n",
      "{'a': -9.029888527091059e+32, 'b': 5.359738719221072e+32, 'n_iter': 1000, 'E(amin, bmin)': array([5.5593812e+34])}\n"
     ]
    }
   ],
   "source": [
    "print(f\"n = 0.001, n_max = 100 :\\n{DG_reg(max_iter = 100, e = 0.0001, n = 0.001, x=x, y=y)}\")\n",
    "print(f\"\\nn = 0.001, n_max = 500 :\\n{DG_reg(max_iter = 500, e = 0.0001, n = 0.001, x=x, y=y)}\")\n",
    "print(f\"\\nn = 0.001, n_max = 1000 :\\n{DG_reg(max_iter = 1000, e = 0.0001, n = 0.001, x=x, y=y)}\")\n",
    "print(f\"\\nn = 0.01, n_max = 1000 :\\n{DG_reg(max_iter = 1000, e = 0.0001, n = 0.01, x=x, y=y)}\")\n",
    "#print(f\"n = 1, n_max = 1000 ===> {DG_reg(max_iter = 1000, e = 0.0001, n = 1, x=x, y=y)}\")"
   ]
  },
  {
   "cell_type": "code",
   "execution_count": 87,
   "metadata": {},
   "outputs": [
    {
     "name": "stdout",
     "output_type": "stream",
     "text": [
      "a:76.36737561883326    b: 0.39749717654145145\n"
     ]
    }
   ],
   "source": [
    "from scipy.stats import linregress\n",
    "\n",
    "slope, intercept, r_value, p_value, std_err = linregress(x.flatten(), y)\n",
    "\n",
    "print(f\"a:{slope}    b: {intercept}\")"
   ]
  },
  {
   "cell_type": "code",
   "execution_count": 101,
   "metadata": {},
   "outputs": [
    {
     "data": {
      "image/png": "[encoded data removed]",
      "text/plain": [
       "<Figure size 864x576 with 1 Axes>"
      ]
     },
     "metadata": {
      "needs_background": "light"
     },
     "output_type": "display_data"
    }
   ],
   "source": [
    "import matplotlib.pyplot as plt\n",
    "plt.figure(figsize=(12,8))\n",
    "plt.plot(x,y, 'x')\n",
    "plt.plot(x, intercept+slope*x)\n",
    "plt.show()"
   ]
  },
  {
   "cell_type": "code",
   "execution_count": 106,
   "metadata": {},
   "outputs": [
    {
     "data": {
      "image/png": "[encoded data removed]",
      "text/plain": [
       "<Figure size 864x576 with 1 Axes>"
      ]
     },
     "metadata": {
      "needs_background": "light"
     },
     "output_type": "display_data"
    }
   ],
   "source": [
    "res = DG_reg(max_iter = 100, e = 0.0001, n = 0.001, x=x, y=y)\n",
    "plt.figure(figsize=(12,8))\n",
    "plt.plot(x,y, 'x')\n",
    "plt.plot(x, res['b']+res['a']*x)\n",
    "plt.show()"
   ]
  },
  {
   "cell_type": "code",
   "execution_count": null,
   "metadata": {},
   "outputs": [],
   "source": []
  }
 ],
 "metadata": {
  "kernelspec": {
   "display_name": "Python 3",
   "language": "python",
   "name": "python3"
  },
  "language_info": {
   "codemirror_mode": {
    "name": "ipython",
    "version": 3
   },
   "file_extension": ".py",
   "mimetype": "text/x-python",
   "name": "python",
   "nbconvert_exporter": "python",
   "pygments_lexer": "ipython3",
   "version": "3.7.4"
  }
 },
 "nbformat": 4,
 "nbformat_minor": 2
}
