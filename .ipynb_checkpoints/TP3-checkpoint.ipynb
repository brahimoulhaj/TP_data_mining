{
 "cells": [
  {
   "cell_type": "markdown",
   "metadata": {},
   "source": [
    "<center><h1>TP3</h1></center>\n",
    "<center><h2>Introduction à la classification</h2></center>"
   ]
  },
  {
   "cell_type": "code",
   "execution_count": 1,
   "metadata": {},
   "outputs": [],
   "source": [
    "from sklearn import *\n",
    "import numpy as np\n",
    "import matplotlib.pyplot as plt"
   ]
  },
  {
   "cell_type": "code",
   "execution_count": 2,
   "metadata": {},
   "outputs": [],
   "source": [
    "iris = datasets.load_iris()\n",
    "X = iris.data\n",
    "y = iris.target"
   ]
  },
  {
   "cell_type": "markdown",
   "metadata": {},
   "source": [
    "## Plus Proche Voisin"
   ]
  },
  {
   "cell_type": "code",
   "execution_count": 3,
   "metadata": {},
   "outputs": [],
   "source": [
    "def PPV(X, y, k=1):\n",
    "    targets = np.zeros(len(X))\n",
    "    for i in range(len(X)):\n",
    "        X_test = X[i]\n",
    "        X_train = np.delete(X, i, 0)\n",
    "        l = np.array(metrics.pairwise.euclidean_distances(X_train, [X_test])).flatten()\n",
    "        indexs = np.argsort(l)[:k]\n",
    "        cs = []\n",
    "        for j in range(k): cs.append(y[indexs[j]])\n",
    "        c = np.bincount(cs).argmax()\n",
    "        targets[i] = c\n",
    "    error = 1 - metrics.accuracy_score(targets, y)\n",
    "    return targets, error"
   ]
  },
  {
   "cell_type": "code",
   "execution_count": 4,
   "metadata": {
    "scrolled": true
   },
   "outputs": [
    {
     "name": "stdout",
     "output_type": "stream",
     "text": [
      "error = 2.0 %\n",
      "[0. 0. 0. 0. 0. 0. 0. 0. 0. 0. 0. 0. 0. 0. 0. 0. 0. 0. 0. 0. 0. 0. 0. 0.\n",
      " 0. 0. 0. 0. 0. 0. 0. 0. 0. 0. 0. 0. 0. 0. 0. 0. 0. 0. 0. 0. 0. 0. 0. 0.\n",
      " 0. 0. 1. 1. 1. 1. 1. 1. 1. 1. 1. 1. 1. 1. 1. 1. 1. 1. 1. 1. 1. 1. 1. 1.\n",
      " 1. 1. 1. 1. 1. 2. 1. 1. 1. 1. 1. 2. 1. 1. 1. 1. 1. 1. 1. 1. 1. 1. 1. 1.\n",
      " 1. 1. 1. 1. 2. 2. 2. 2. 2. 2. 1. 2. 2. 2. 2. 2. 2. 2. 2. 2. 2. 2. 2. 2.\n",
      " 2. 2. 2. 2. 2. 2. 2. 2. 2. 2. 2. 2. 2. 2. 2. 2. 2. 2. 2. 2. 2. 2. 2. 2.\n",
      " 2. 2. 2. 2. 2. 2.]\n"
     ]
    }
   ],
   "source": [
    "pred, error = PPV(X,y, k=11)\n",
    "print(f\"error = {round(error, 2)*100} %\")\n",
    "print(pred)"
   ]
  },
  {
   "cell_type": "markdown",
   "metadata": {},
   "source": [
    "## Classifieur Bayesien Naïf"
   ]
  },
  {
   "cell_type": "code",
   "execution_count": 5,
   "metadata": {
    "scrolled": false
   },
   "outputs": [],
   "source": [
    "def separate_by_class(X,y):\n",
    "    d = {}\n",
    "    for i in range(len(X)):\n",
    "        if y[i] not in d:\n",
    "            d[y[i]] = list()\n",
    "        d[y[i]].append(list(X[i]))\n",
    "    return d"
   ]
  },
  {
   "cell_type": "code",
   "execution_count": 6,
   "metadata": {},
   "outputs": [
    {
     "data": {
      "text/plain": [
       "{0: 0.3333333333333333, 1: 0.3333333333333333, 2: 0.3333333333333333}"
      ]
     },
     "execution_count": 6,
     "metadata": {},
     "output_type": "execute_result"
    }
   ],
   "source": [
    "def probabilite_class(y):\n",
    "    classes = np.unique(y)\n",
    "    probs = {}\n",
    "    for c in classes:\n",
    "        probs[c] = list(y).count(c)/len(y)\n",
    "    return probs\n",
    "probabilite_class(y)"
   ]
  },
  {
   "cell_type": "code",
   "execution_count": 7,
   "metadata": {},
   "outputs": [
    {
     "data": {
      "text/plain": [
       "{0: array([5.006, 3.428, 1.462, 0.246]),\n",
       " 1: array([5.936, 2.77 , 4.26 , 1.326]),\n",
       " 2: array([6.588, 2.974, 5.552, 2.026])}"
      ]
     },
     "execution_count": 7,
     "metadata": {},
     "output_type": "execute_result"
    }
   ],
   "source": [
    "def barycenter_class(X,y):\n",
    "    classes = np.unique(y)\n",
    "    sep = separate_by_class(X,y)\n",
    "    barycenters = {}\n",
    "    for c in classes:\n",
    "        barycenters[c] = np.array(sep[c]).mean(0)\n",
    "    return barycenters\n",
    "barycenter_class(X,y)"
   ]
  },
  {
   "cell_type": "code",
   "execution_count": 8,
   "metadata": {
    "scrolled": false
   },
   "outputs": [],
   "source": [
    "def CBN(X, y):\n",
    "    targets = np.zeros(len(X))\n",
    "    for i in range(len(y)):\n",
    "        X_test = X[i]; X_train = np.delete(X, i, 0)\n",
    "        y_test = y[i]; y_train = np.delete(y, i)\n",
    "        \n",
    "        classes = np.unique(y_train)\n",
    "        \n",
    "        #calcule des probabilités de chaque classe k : P(Wk)\n",
    "        #return dict {k:prob}\n",
    "        probabilites = probabilite_class(y_train)\n",
    "        \n",
    "        #calcule des barycentres de chaque classe k\n",
    "        #return dict {k:barycenter}\n",
    "        barycentres = barycenter_class(X_train, y_train)\n",
    "            \n",
    "        #calculer p_x_w la probabilité qu’une donnée x ait la valeur xi pour la variable i, si on connaît sa classe wk\n",
    "        dist = np.array([abs(X_test-b) for b in barycentres.values()])\n",
    "        dist_total = np.sum(dist, axis=0)\n",
    "        p_x_wk = abs(1-(dist/dist_total))\n",
    "        \n",
    "        prods = []\n",
    "        j = 0\n",
    "        for p in probabilites.values():\n",
    "            prods.append(p*np.prod(p_x_wk[j]))\n",
    "            j += 1\n",
    "        \n",
    "        targets[i] = np.argmax(np.array(prods))\n",
    "        \n",
    "    error = 1 - metrics.accuracy_score(targets, y)\n",
    "    return targets, error"
   ]
  },
  {
   "cell_type": "code",
   "execution_count": 9,
   "metadata": {},
   "outputs": [
    {
     "name": "stdout",
     "output_type": "stream",
     "text": [
      "error = 13.0 %\n",
      "[0. 0. 0. 0. 0. 0. 0. 0. 0. 0. 0. 0. 0. 0. 0. 0. 0. 0. 0. 0. 0. 0. 0. 0.\n",
      " 0. 0. 0. 0. 0. 0. 0. 0. 0. 0. 0. 0. 0. 0. 0. 0. 0. 0. 0. 0. 0. 0. 0. 0.\n",
      " 0. 0. 2. 2. 2. 1. 1. 1. 2. 1. 1. 1. 1. 1. 1. 1. 1. 2. 1. 1. 1. 1. 1. 1.\n",
      " 1. 1. 1. 2. 1. 2. 1. 1. 1. 1. 1. 1. 1. 1. 2. 1. 1. 1. 1. 1. 1. 1. 1. 1.\n",
      " 1. 1. 1. 1. 2. 1. 2. 2. 2. 2. 1. 2. 2. 2. 2. 2. 2. 1. 1. 2. 2. 2. 2. 1.\n",
      " 2. 1. 2. 1. 2. 2. 1. 2. 2. 2. 2. 2. 2. 1. 1. 2. 2. 2. 2. 2. 2. 2. 1. 2.\n",
      " 2. 2. 2. 2. 2. 2.]\n"
     ]
    }
   ],
   "source": [
    "pred, error = CBN(X,y)\n",
    "print(f\"error = {round(error, 2)*100} %\")\n",
    "print(pred)"
   ]
  },
  {
   "cell_type": "code",
   "execution_count": 10,
   "metadata": {},
   "outputs": [
    {
     "name": "stdout",
     "output_type": "stream",
     "text": [
      "error = 4.0 %\n",
      "[2 1 2 0 2 1 0 2 1 2 2 0 1 0 0 0 1 1 0 1 1 0 2 0 0 2 2 1 1 2 1 2 1 2 2 1 0\n",
      " 2 2 1 1 1 1 2 0]\n"
     ]
    }
   ],
   "source": [
    "model = naive_bayes.GaussianNB()\n",
    "X_train, X_test, y_train, y_test = model_selection.train_test_split(X, y, test_size=0.3,random_state=109)\n",
    "model.fit(X_train, y_train)\n",
    "pred = model.predict(X_test)\n",
    "error = 1 - metrics.accuracy_score(pred, y_test)\n",
    "print(f\"error = {round(error, 2)*100} %\")\n",
    "print(pred)"
   ]
  },
  {
   "cell_type": "code",
   "execution_count": null,
   "metadata": {},
   "outputs": [],
   "source": []
  }
 ],
 "metadata": {
  "kernelspec": {
   "display_name": "Python 3",
   "language": "python",
   "name": "python3"
  },
  "language_info": {
   "codemirror_mode": {
    "name": "ipython",
    "version": 3
   },
   "file_extension": ".py",
   "mimetype": "text/x-python",
   "name": "python",
   "nbconvert_exporter": "python",
   "pygments_lexer": "ipython3",
   "version": "3.7.4"
  }
 },
 "nbformat": 4,
 "nbformat_minor": 2
}
